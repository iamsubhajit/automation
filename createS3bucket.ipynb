{
 "cells": [
  {
   "cell_type": "code",
   "execution_count": null,
   "id": "08159fbb-3617-485e-9c21-dc61f5ced3e2",
   "metadata": {},
   "outputs": [],
   "source": [
    "'''\n",
    "    Common timestamp for each unique iteration\n",
    "'''\n",
    "\n",
    "from datetime import datetime\n",
    "\n",
    "\n",
    "timpestamp = datetime.now().strftime(\"%Y%m%d%H%M%S\")"
   ]
  },
  {
   "cell_type": "code",
   "execution_count": 17,
   "id": "75a366ab-fa34-4dbf-97bd-8a7ffa292ca5",
   "metadata": {},
   "outputs": [
    {
     "name": "stdout",
     "output_type": "stream",
     "text": [
      "Bucket uploadbucket20250616175143 is created successfully in ap-south-1\n"
     ]
    }
   ],
   "source": [
    "''' \n",
    "    Python3.X Script to create S3 Bucket\n",
    "'''\n",
    "import boto3\n",
    "\n",
    "\n",
    "bucket_name = f\"uploadbucket{timpestamp}\"\n",
    "region = 'ap-south-1'\n",
    "s3boto = boto3.resource(\"s3\")\n",
    "try:\n",
    "    s3boto.create_bucket(\n",
    "        Bucket = bucket_name,\n",
    "        CreateBucketConfiguration = {'LocationConstraint':region}\n",
    "    )\n",
    "    print(f\"Bucket {bucket_name} is created successfully in {region}\")\n",
    "except Exception as e:\n",
    "    print(f\"Error creating bucket {bucket_name}, {e}\")"
   ]
  },
  {
   "cell_type": "code",
   "execution_count": 18,
   "id": "cd38466e-fe2c-4d50-8ccf-247c91a76fca",
   "metadata": {},
   "outputs": [
    {
     "name": "stdout",
     "output_type": "stream",
     "text": [
      "Force deleting bucket: uploadbucket20250616175143 in progress....\n",
      "Bucket s3.Bucket(name='uploadbucket20250616175143') is deleted.\n"
     ]
    }
   ],
   "source": [
    "''' \n",
    "    Python3.X Script to force delete S3 Bucket\n",
    "'''\n",
    "import boto3\n",
    "\n",
    "\n",
    "s3boto = boto3.resource(\"s3\")\n",
    "buckets = [bucket.name for bucket in s3boto.buckets.all()]\n",
    "for bucket_name in buckets:\n",
    "    print(f\"Force deleting bucket: {bucket_name} in progress....\")\n",
    "    bucket = s3boto.Bucket(bucket_name)\n",
    "\n",
    "    # Delete all object versions\n",
    "    try:\n",
    "        bucket.object_versions.delete()\n",
    "    except Exception as e:\n",
    "        print(f\"Error deleteing the object versions: {e}\")\n",
    "    \n",
    "    # Delete all objects\n",
    "    try:\n",
    "        bucket.objects.all().delete()\n",
    "    except Exception as e:\n",
    "        print(f\"Error deleteing the object: {e}\")\n",
    "    \n",
    "    # Delete the bucket\n",
    "    try:\n",
    "        bucket.delete()\n",
    "        print(f\"Bucket {bucket} is deleted.\")\n",
    "    except Exception as e:\n",
    "        print(f\"Error deleting the bucket: {e}\")"
   ]
  },
  {
   "cell_type": "code",
   "execution_count": null,
   "id": "754be18c-dbb4-42b1-9daf-d09a3467a64e",
   "metadata": {},
   "outputs": [],
   "source": []
  }
 ],
 "metadata": {
  "kernelspec": {
   "display_name": "Python 3 (ipykernel)",
   "language": "python",
   "name": "python3"
  },
  "language_info": {
   "codemirror_mode": {
    "name": "ipython",
    "version": 3
   },
   "file_extension": ".py",
   "mimetype": "text/x-python",
   "name": "python",
   "nbconvert_exporter": "python",
   "pygments_lexer": "ipython3",
   "version": "3.12.7"
  }
 },
 "nbformat": 4,
 "nbformat_minor": 5
}
