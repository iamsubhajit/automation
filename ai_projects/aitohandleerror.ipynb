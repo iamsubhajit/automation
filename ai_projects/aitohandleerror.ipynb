{
 "cells": [
  {
   "cell_type": "code",
   "execution_count": 10,
   "id": "f7e77249-cdee-4f59-8b11-7f0637b7abcd",
   "metadata": {},
   "outputs": [],
   "source": [
    "from dotenv import load_dotenv"
   ]
  },
  {
   "cell_type": "code",
   "execution_count": 11,
   "id": "da48b09e-3309-44c6-9261-3ffacf18d93c",
   "metadata": {},
   "outputs": [
    {
     "data": {
      "text/plain": [
       "True"
      ]
     },
     "execution_count": 11,
     "metadata": {},
     "output_type": "execute_result"
    }
   ],
   "source": [
    "load_dotenv()"
   ]
  },
  {
   "cell_type": "code",
   "execution_count": 12,
   "id": "3f63ecc7-de69-4f62-a624-be8ed69de1dc",
   "metadata": {},
   "outputs": [],
   "source": [
    "import google.generativeai as genai"
   ]
  },
  {
   "cell_type": "code",
   "execution_count": 13,
   "id": "c68dd0ca-d177-45ce-8a39-989fdc00e0a5",
   "metadata": {},
   "outputs": [],
   "source": [
    "import os"
   ]
  },
  {
   "cell_type": "code",
   "execution_count": 14,
   "id": "35853b66-f836-458e-8ade-6d43305ccda9",
   "metadata": {},
   "outputs": [],
   "source": [
    "genai.configure(api_key=os.getenv('GOOGLE_API_KEY'))"
   ]
  },
  {
   "cell_type": "code",
   "execution_count": 15,
   "id": "40a90009-a04d-476c-b36d-82ab9b5dc279",
   "metadata": {},
   "outputs": [],
   "source": [
    "model = genai.GenerativeModel()"
   ]
  },
  {
   "cell_type": "code",
   "execution_count": 16,
   "id": "95980d03-ce8d-46f2-9385-c891e166d8be",
   "metadata": {},
   "outputs": [],
   "source": [
    "conv = model.start_chat()"
   ]
  },
  {
   "cell_type": "code",
   "execution_count": 18,
   "id": "6233065f-a696-42ad-b864-71dea323f1ed",
   "metadata": {},
   "outputs": [
    {
     "name": "stdout",
     "output_type": "stream",
     "text": [
      "The error \"[Errno 2] No such file or directory: 'file.txt'\" means your program is trying to access a file named \"file.txt,\" but that file doesn't exist in the location your program is looking.  The fix depends on why the file is missing. Here's a breakdown of possible solutions:\n",
      "\n",
      "**1. Verify the File Exists and the Path is Correct:**\n",
      "\n",
      "* **Double-check the filename:**  Is it exactly \"file.txt\"?  Case sensitivity matters (e.g., \"File.txt\" is different).\n",
      "* **Check the file path:**  Is the file in the directory your program expects?  If you're using a relative path (e.g., `'file.txt'`), it's relative to the *current working directory* of your script.  Print `os.getcwd()` (in Python) to see where your program is running from.  Use an absolute path (e.g., `/path/to/your/file.txt` on Linux/macOS, `C:\\\\path\\\\to\\\\your\\\\file.txt` on Windows) to avoid ambiguity.\n",
      "* **Look for typos:** Carefully examine your code for any spelling errors in the filename or path.\n",
      "\n",
      "**2. Create the File if it Should Exist:**\n",
      "\n",
      "If the file is supposed to be created by your program, add code to do so.  Here are examples in Python:\n",
      "\n",
      "```python\n",
      "import os\n",
      "\n",
      "# Option 1: Create an empty file\n",
      "try:\n",
      "    with open(\"file.txt\", \"x\") as f:\n",
      "        pass  # Create the file, do nothing else\n",
      "except FileExistsError:\n",
      "    print(\"File already exists.\")\n",
      "\n",
      "# Option 2: Create the file and write to it\n",
      "try:\n",
      "  with open(\"file.txt\", \"w\") as f:\n",
      "    f.write(\"This is some text.\")\n",
      "except FileExistsError:\n",
      "    print(\"File already exists.\")\n",
      "except OSError as e:\n",
      "  print(f\"An error occurred: {e}\")\n",
      "\n",
      "```\n",
      "\n",
      "**3. Handle the Error Gracefully:**\n",
      "\n",
      "Don't just let the error crash your program. Use exception handling (like `try...except` in Python) to catch the error and deal with it appropriately.\n",
      "\n",
      "```python\n",
      "import os\n",
      "\n",
      "try:\n",
      "    with open(\"file.txt\", \"r\") as f:\n",
      "        contents = f.read()\n",
      "        # Process the file contents\n",
      "except FileNotFoundError:\n",
      "    print(\"Error: file.txt not found.  Please create it.\")\n",
      "    # You might want to exit the program, create the file, or take other actions.\n",
      "```\n",
      "\n",
      "**4. Check File Permissions:**\n",
      "\n",
      "If the file exists, but your program can't access it, there might be permission issues.  Make sure your user has read permissions for the file.\n",
      "\n",
      "\n",
      "**Example in different programming languages:**\n",
      "\n",
      "\n",
      "**Python:** (Already shown above)\n",
      "\n",
      "\n",
      "**JavaScript (Node.js):**\n",
      "\n",
      "```javascript\n",
      "const fs = require('fs');\n",
      "\n",
      "try {\n",
      "  const data = fs.readFileSync('file.txt', 'utf8');\n",
      "  console.log(data);\n",
      "} catch (err) {\n",
      "  if (err.code === 'ENOENT') {\n",
      "    console.error('File not found!');\n",
      "  } else {\n",
      "    console.error('An error occurred:', err);\n",
      "  }\n",
      "}\n",
      "```\n",
      "\n",
      "**Java:**\n",
      "\n",
      "```java\n",
      "import java.io.File;\n",
      "import java.io.IOException;\n",
      "\n",
      "public class FileExample {\n",
      "    public static void main(String[] args) {\n",
      "        File file = new File(\"file.txt\");\n",
      "        try {\n",
      "            if (!file.exists()) {\n",
      "                System.out.println(\"File not found!\");\n",
      "                //Optionally create the file:\n",
      "                //if(file.createNewFile()){\n",
      "                //    System.out.println(\"File created\");\n",
      "                //}\n",
      "            } else {\n",
      "                // Process the file\n",
      "            }\n",
      "        } catch (Exception e) {\n",
      "            System.out.println(\"An error occurred: \" + e.getMessage());\n",
      "        }\n",
      "    }\n",
      "}\n",
      "```\n",
      "\n",
      "Remember to replace `\"file.txt\"` with the actual path to your file if it's not in the same directory as your script.  Provide more context (the programming language you're using, the relevant code snippet) for a more tailored solution.\n",
      "\n"
     ]
    }
   ],
   "source": [
    "try:\n",
    "    with open(\"file.txt\", \"r\") as file:\n",
    "        content = file.read()\n",
    "        print(content)\n",
    "except Exception as e:\n",
    "    response = conv.send_message(f\"Fix for: {e}\")\n",
    "    print(response.text)"
   ]
  },
  {
   "cell_type": "code",
   "execution_count": null,
   "id": "e090b7c8-eae3-471a-be90-577b6457761f",
   "metadata": {},
   "outputs": [],
   "source": []
  }
 ],
 "metadata": {
  "kernelspec": {
   "display_name": "Python 3 (ipykernel)",
   "language": "python",
   "name": "python3"
  },
  "language_info": {
   "codemirror_mode": {
    "name": "ipython",
    "version": 3
   },
   "file_extension": ".py",
   "mimetype": "text/x-python",
   "name": "python",
   "nbconvert_exporter": "python",
   "pygments_lexer": "ipython3",
   "version": "3.12.7"
  }
 },
 "nbformat": 4,
 "nbformat_minor": 5
}
