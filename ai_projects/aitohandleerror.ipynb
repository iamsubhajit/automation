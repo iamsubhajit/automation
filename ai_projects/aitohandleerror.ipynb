{
 "cells": [
  {
   "cell_type": "code",
   "execution_count": 19,
   "id": "f7e77249-cdee-4f59-8b11-7f0637b7abcd",
   "metadata": {},
   "outputs": [],
   "source": [
    "from dotenv import load_dotenv"
   ]
  },
  {
   "cell_type": "code",
   "execution_count": 20,
   "id": "da48b09e-3309-44c6-9261-3ffacf18d93c",
   "metadata": {},
   "outputs": [
    {
     "data": {
      "text/plain": [
       "True"
      ]
     },
     "execution_count": 20,
     "metadata": {},
     "output_type": "execute_result"
    }
   ],
   "source": [
    "load_dotenv()"
   ]
  },
  {
   "cell_type": "code",
   "execution_count": 21,
   "id": "3f63ecc7-de69-4f62-a624-be8ed69de1dc",
   "metadata": {},
   "outputs": [],
   "source": [
    "import google.generativeai as genai"
   ]
  },
  {
   "cell_type": "code",
   "execution_count": 22,
   "id": "c68dd0ca-d177-45ce-8a39-989fdc00e0a5",
   "metadata": {},
   "outputs": [],
   "source": [
    "import os"
   ]
  },
  {
   "cell_type": "code",
   "execution_count": 23,
   "id": "35853b66-f836-458e-8ade-6d43305ccda9",
   "metadata": {},
   "outputs": [],
   "source": [
    "genai.configure(api_key=os.getenv('GOOGLE_API_KEY'))"
   ]
  },
  {
   "cell_type": "code",
   "execution_count": 24,
   "id": "40a90009-a04d-476c-b36d-82ab9b5dc279",
   "metadata": {},
   "outputs": [],
   "source": [
    "model = genai.GenerativeModel()"
   ]
  },
  {
   "cell_type": "code",
   "execution_count": 25,
   "id": "fa6dd91f-e20b-401c-ba48-c8cfa074fa8b",
   "metadata": {},
   "outputs": [],
   "source": [
    "prompt = {\n",
    "    \"role\": \"user\",\n",
    "    \"parts\": [\"You are an AI provide solution to the error/exceptions in coding. Summarize your answer briefly, crisply and to the point in maximum 100 words\"]\n",
    "}"
   ]
  },
  {
   "cell_type": "code",
   "execution_count": 26,
   "id": "95980d03-ce8d-46f2-9385-c891e166d8be",
   "metadata": {},
   "outputs": [],
   "source": [
    "conv = model.start_chat(history=[prompt])"
   ]
  },
  {
   "cell_type": "code",
   "execution_count": 27,
   "id": "6233065f-a696-42ad-b864-71dea323f1ed",
   "metadata": {},
   "outputs": [
    {
     "name": "stdout",
     "output_type": "stream",
     "text": [
      "The error \"Errno 2: No such file or directory\" means the program can't find `file.txt`.  Solutions:\n",
      "\n",
      "1. **Verify the filepath:** Ensure the path to `file.txt` is correct, including case and location.  Use absolute paths (e.g., `/home/user/file.txt`) to avoid ambiguity.\n",
      "\n",
      "2. **Create the file:** If the file doesn't exist, create it before attempting to access it.\n",
      "\n",
      "3. **Check permissions:** Confirm the program has read access to the directory containing `file.txt`.\n",
      "\n"
     ]
    }
   ],
   "source": [
    "try:\n",
    "    with open(\"file.txt\", \"r\") as file:\n",
    "        content = file.read()\n",
    "        print(content)\n",
    "except Exception as e:\n",
    "    response = conv.send_message(f\"Fix for: {e}\")\n",
    "    print(response.text)"
   ]
  },
  {
   "cell_type": "code",
   "execution_count": null,
   "id": "e090b7c8-eae3-471a-be90-577b6457761f",
   "metadata": {},
   "outputs": [],
   "source": []
  }
 ],
 "metadata": {
  "kernelspec": {
   "display_name": "Python 3 (ipykernel)",
   "language": "python",
   "name": "python3"
  },
  "language_info": {
   "codemirror_mode": {
    "name": "ipython",
    "version": 3
   },
   "file_extension": ".py",
   "mimetype": "text/x-python",
   "name": "python",
   "nbconvert_exporter": "python",
   "pygments_lexer": "ipython3",
   "version": "3.12.7"
  }
 },
 "nbformat": 4,
 "nbformat_minor": 5
}
