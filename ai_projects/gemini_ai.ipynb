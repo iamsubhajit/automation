{
 "cells": [
  {
   "cell_type": "code",
   "execution_count": 5,
   "id": "ba083068-8498-4cb1-87d4-3b7ddbca4a6c",
   "metadata": {},
   "outputs": [],
   "source": [
    "from dotenv import load_dotenv"
   ]
  },
  {
   "cell_type": "code",
   "execution_count": 6,
   "id": "af486ef2-c977-486c-b5cf-6327feb3f899",
   "metadata": {},
   "outputs": [
    {
     "data": {
      "text/plain": [
       "True"
      ]
     },
     "execution_count": 6,
     "metadata": {},
     "output_type": "execute_result"
    }
   ],
   "source": [
    "load_dotenv()"
   ]
  },
  {
   "cell_type": "code",
   "execution_count": 7,
   "id": "84c5e0eb-ab9d-409a-8cf6-0a1c299efb2d",
   "metadata": {},
   "outputs": [],
   "source": [
    "import os"
   ]
  },
  {
   "cell_type": "code",
   "execution_count": 8,
   "id": "72676ee2-7ac9-49c1-bcd9-1ba1caf521a3",
   "metadata": {},
   "outputs": [],
   "source": [
    "google_key = os.getenv(\"GEMINI_API_KEY\")"
   ]
  },
  {
   "cell_type": "code",
   "execution_count": 16,
   "id": "58e2ba5d-84c0-4f0a-b69c-6a49751d8937",
   "metadata": {},
   "outputs": [],
   "source": [
    "import google.generativeai as genai"
   ]
  },
  {
   "cell_type": "code",
   "execution_count": 23,
   "id": "e155cc84-478c-4345-bbd1-53869e175686",
   "metadata": {},
   "outputs": [],
   "source": [
    "genai.configure(api_key=google_key)"
   ]
  },
  {
   "cell_type": "code",
   "execution_count": 24,
   "id": "397ba537-3f93-4194-851f-42a45e0d4f15",
   "metadata": {},
   "outputs": [],
   "source": [
    "gemini_model = genai.GenerativeModel()"
   ]
  },
  {
   "cell_type": "code",
   "execution_count": 31,
   "id": "f602d344-7914-45da-8e63-bb4d51bff419",
   "metadata": {},
   "outputs": [],
   "source": [
    "chat = gemini_model.start_chat()"
   ]
  },
  {
   "cell_type": "code",
   "execution_count": 32,
   "id": "42a72f5c-2f57-44fd-8ed0-ded58d8ced40",
   "metadata": {},
   "outputs": [],
   "source": [
    "response1 = chat.send_message(\"Remember that my name is Subhajit MAITY\")"
   ]
  },
  {
   "cell_type": "code",
   "execution_count": 36,
   "id": "ac1ee9be-987c-4ef6-bb9a-3a3b0621d724",
   "metadata": {},
   "outputs": [],
   "source": [
    "#print(response1)"
   ]
  },
  {
   "cell_type": "code",
   "execution_count": 34,
   "id": "644115fa-2278-46a7-be78-be5ac9275257",
   "metadata": {},
   "outputs": [],
   "source": [
    "response2 = chat.send_message(\"What is my name?\")"
   ]
  },
  {
   "cell_type": "code",
   "execution_count": 35,
   "id": "c327f2cc-1d41-480f-a0bc-e9ce1fd964d1",
   "metadata": {},
   "outputs": [
    {
     "name": "stdout",
     "output_type": "stream",
     "text": [
      "Your name is Subhajit MAITY.\n",
      "\n"
     ]
    }
   ],
   "source": [
    "print(response2.text)"
   ]
  },
  {
   "cell_type": "code",
   "execution_count": null,
   "id": "3295f95c-ede4-4742-bf41-09921efec74b",
   "metadata": {},
   "outputs": [],
   "source": []
  }
 ],
 "metadata": {
  "kernelspec": {
   "display_name": "Python 3 (ipykernel)",
   "language": "python",
   "name": "python3"
  },
  "language_info": {
   "codemirror_mode": {
    "name": "ipython",
    "version": 3
   },
   "file_extension": ".py",
   "mimetype": "text/x-python",
   "name": "python",
   "nbconvert_exporter": "python",
   "pygments_lexer": "ipython3",
   "version": "3.12.7"
  }
 },
 "nbformat": 4,
 "nbformat_minor": 5
}
