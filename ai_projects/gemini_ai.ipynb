{
 "cells": [
  {
   "cell_type": "code",
   "execution_count": 5,
   "id": "ba083068-8498-4cb1-87d4-3b7ddbca4a6c",
   "metadata": {},
   "outputs": [],
   "source": [
    "from dotenv import load_dotenv"
   ]
  },
  {
   "cell_type": "code",
   "execution_count": 6,
   "id": "af486ef2-c977-486c-b5cf-6327feb3f899",
   "metadata": {},
   "outputs": [
    {
     "data": {
      "text/plain": [
       "True"
      ]
     },
     "execution_count": 6,
     "metadata": {},
     "output_type": "execute_result"
    }
   ],
   "source": [
    "load_dotenv()"
   ]
  },
  {
   "cell_type": "code",
   "execution_count": 7,
   "id": "84c5e0eb-ab9d-409a-8cf6-0a1c299efb2d",
   "metadata": {},
   "outputs": [],
   "source": [
    "import os"
   ]
  },
  {
   "cell_type": "code",
   "execution_count": 8,
   "id": "72676ee2-7ac9-49c1-bcd9-1ba1caf521a3",
   "metadata": {},
   "outputs": [],
   "source": [
    "google_key = os.getenv(\"GEMINI_API_KEY\")"
   ]
  },
  {
   "cell_type": "code",
   "execution_count": 16,
   "id": "58e2ba5d-84c0-4f0a-b69c-6a49751d8937",
   "metadata": {},
   "outputs": [],
   "source": [
    "import google.generativeai as genai"
   ]
  },
  {
   "cell_type": "code",
   "execution_count": 23,
   "id": "e155cc84-478c-4345-bbd1-53869e175686",
   "metadata": {},
   "outputs": [],
   "source": [
    "genai.configure(api_key=google_key)"
   ]
  },
  {
   "cell_type": "code",
   "execution_count": 24,
   "id": "397ba537-3f93-4194-851f-42a45e0d4f15",
   "metadata": {},
   "outputs": [],
   "source": [
    "gemini_model = genai.GenerativeModel()"
   ]
  },
  {
   "cell_type": "code",
   "execution_count": 31,
   "id": "f602d344-7914-45da-8e63-bb4d51bff419",
   "metadata": {},
   "outputs": [],
   "source": [
    "chat = gemini_model.start_chat()"
   ]
  },
  {
   "cell_type": "code",
   "execution_count": 32,
   "id": "42a72f5c-2f57-44fd-8ed0-ded58d8ced40",
   "metadata": {},
   "outputs": [],
   "source": [
    "response1 = chat.send_message(\"Remember that my name is Subhajit MAITY\")"
   ]
  },
  {
   "cell_type": "code",
   "execution_count": 36,
   "id": "ac1ee9be-987c-4ef6-bb9a-3a3b0621d724",
   "metadata": {},
   "outputs": [],
   "source": [
    "#print(response1)"
   ]
  },
  {
   "cell_type": "code",
   "execution_count": 34,
   "id": "644115fa-2278-46a7-be78-be5ac9275257",
   "metadata": {},
   "outputs": [],
   "source": [
    "response2 = chat.send_message(\"What is my name?\")"
   ]
  },
  {
   "cell_type": "code",
   "execution_count": 35,
   "id": "c327f2cc-1d41-480f-a0bc-e9ce1fd964d1",
   "metadata": {},
   "outputs": [
    {
     "name": "stdout",
     "output_type": "stream",
     "text": [
      "Your name is Subhajit MAITY.\n",
      "\n"
     ]
    }
   ],
   "source": [
    "print(response2.text)"
   ]
  },
  {
   "cell_type": "code",
   "execution_count": 39,
   "id": "0fd15ffa-bcdd-44fb-8834-81538cba22dd",
   "metadata": {},
   "outputs": [
    {
     "name": "stdout",
     "output_type": "stream",
     "text": [
      "The error \"[Errno 2] No such file or directory: 'file.txt'\" means your program is trying to access a file named \"file.txt\", but that file doesn't exist in the directory your program is running from.  The fix depends on why the file doesn't exist:\n",
      "\n",
      "**1. The file truly doesn't exist:**\n",
      "\n",
      "* **Create the file:**  Before your program tries to access `file.txt`, you need to create it.  You can do this manually (using a text editor), or programmatically.  Here are examples in Python and Bash:\n",
      "\n",
      "   * **Python:**\n",
      "     ```python\n",
      "     with open(\"file.txt\", \"w\") as f:\n",
      "         f.write(\"This is some initial text.\")  # Or leave it empty: f.write(\"\")\n",
      "     ```\n",
      "\n",
      "   * **Bash:**\n",
      "     ```bash\n",
      "     touch file.txt\n",
      "     ```\n",
      "\n",
      "**2. Incorrect file path:**\n",
      "\n",
      "* **Check the path:** Make absolutely sure the path to `file.txt` is correct.  The file might be in a different directory than you expect. Use the absolute path (starting from the root directory, e.g., `/home/user/documents/file.txt` on Linux/macOS or `C:\\Users\\User\\Documents\\file.txt` on Windows).\n",
      "\n",
      "   * **Python (using `os.path.abspath`):**\n",
      "     ```python\n",
      "     import os\n",
      "\n",
      "     file_path = os.path.abspath(\"file.txt\") # Get absolute path\n",
      "     with open(file_path, \"r\") as f: # Try to open\n",
      "         # ... your code ...\n",
      "     ```\n",
      "\n",
      "\n",
      "* **Relative vs. Absolute Paths:**  Relative paths are relative to the directory where your script is running.  If your script is in `/home/user/scripts` and you use `\"data/file.txt\"`, Python will look for it in `/home/user/scripts/data/file.txt`.  Use absolute paths for more predictable behavior.\n",
      "\n",
      "**3. Permissions issue:**\n",
      "\n",
      "* **Check permissions:**  Even if the file exists, you might not have the necessary permissions to read or write to it. Verify file permissions using the `ls -l file.txt` command (Linux/macOS) or exploring file properties in Windows Explorer.  You may need administrator privileges to access certain files.\n",
      "\n",
      "\n",
      "**4. Typo in the filename:**\n",
      "\n",
      "* **Double-check spelling and capitalization:**  A simple typo in the filename will cause this error.\n",
      "\n",
      "\n",
      "**Example incorporating error handling (Python):**\n",
      "\n",
      "```python\n",
      "import os\n",
      "\n",
      "def process_file(filepath):\n",
      "    try:\n",
      "        with open(filepath, \"r\") as f:\n",
      "            contents = f.read()\n",
      "            # Process the contents of the file\n",
      "            print(contents)\n",
      "    except FileNotFoundError:\n",
      "        print(f\"Error: File '{filepath}' not found.\")\n",
      "    except Exception as e:\n",
      "        print(f\"An error occurred: {e}\")\n",
      "\n",
      "file_path = os.path.abspath(\"file.txt\")  #Always use absolute paths for production code\n",
      "process_file(file_path)\n",
      "```\n",
      "\n",
      "Remember to replace `\"file.txt\"` with the actual filename and path if it's different. Always include robust error handling in your code to gracefully handle situations where files might not exist.\n",
      "\n"
     ]
    }
   ],
   "source": [
    "try:\n",
    "    with open('file.txt', 'r') as file:\n",
    "        content = file.read()\n",
    "        print(content)\n",
    "except Exception as e:\n",
    "    fix = genai.GenerativeModel().start_chat().send_message(f\"Fix for: {e}\")\n",
    "    print(fix.text)"
   ]
  },
  {
   "cell_type": "code",
   "execution_count": null,
   "id": "3295f95c-ede4-4742-bf41-09921efec74b",
   "metadata": {},
   "outputs": [],
   "source": []
  }
 ],
 "metadata": {
  "kernelspec": {
   "display_name": "Python 3 (ipykernel)",
   "language": "python",
   "name": "python3"
  },
  "language_info": {
   "codemirror_mode": {
    "name": "ipython",
    "version": 3
   },
   "file_extension": ".py",
   "mimetype": "text/x-python",
   "name": "python",
   "nbconvert_exporter": "python",
   "pygments_lexer": "ipython3",
   "version": "3.12.7"
  }
 },
 "nbformat": 4,
 "nbformat_minor": 5
}
