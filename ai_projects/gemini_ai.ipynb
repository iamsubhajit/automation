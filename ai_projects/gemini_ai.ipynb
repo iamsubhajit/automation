{
 "cells": [
  {
   "cell_type": "code",
   "execution_count": 69,
   "id": "ba083068-8498-4cb1-87d4-3b7ddbca4a6c",
   "metadata": {},
   "outputs": [],
   "source": [
    "from dotenv import load_dotenv\n",
    "import os\n",
    "import google.generativeai as genai\n",
    "\n",
    "load_dotenv()\n",
    "google_key = os.getenv(\"GEMINI_API_KEY\")\n",
    "genai.configure(api_key=google_key)\n",
    "gemini_model = genai.GenerativeModel()\n",
    "startchat = gemini_model.start_chat()\n",
    "\n",
    "#response1 = chat.send_message(\"Remember that my name is Subhajit MAITY\")\n",
    "#print(response1)\n",
    "#response2 = chat.send_message(\"What is my name?\")\n",
    "#print(response2.text)\n"
   ]
  },
  {
   "cell_type": "code",
   "execution_count": 70,
   "id": "f21d5709-27d2-46fe-9408-8016c576f894",
   "metadata": {},
   "outputs": [
    {
     "name": "stdout",
     "output_type": "stream",
     "text": [
      "* Running on local URL:  http://127.0.0.1:7866\n",
      "* To create a public link, set `share=True` in `launch()`.\n"
     ]
    },
    {
     "data": {
      "text/html": [
       "<div><iframe src=\"http://127.0.0.1:7866/\" width=\"100%\" height=\"500\" allow=\"autoplay; camera; microphone; clipboard-read; clipboard-write;\" frameborder=\"0\" allowfullscreen></iframe></div>"
      ],
      "text/plain": [
       "<IPython.core.display.HTML object>"
      ]
     },
     "metadata": {},
     "output_type": "display_data"
    },
    {
     "data": {
      "text/plain": []
     },
     "execution_count": 70,
     "metadata": {},
     "output_type": "execute_result"
    }
   ],
   "source": [
    "import gradio as gr\n",
    "\n",
    "def mychat(n)->str:\n",
    "    global startchat\n",
    "    response = startchat.send_message(n)\n",
    "    return response.text\n",
    "gr.Interface(fn=mychat, inputs=\"textbox\", outputs=\"textbox\").launch()"
   ]
  },
  {
   "cell_type": "code",
   "execution_count": null,
   "id": "57219ff1-4fc1-4e5d-8a7a-0c6f0c192a10",
   "metadata": {},
   "outputs": [],
   "source": []
  }
 ],
 "metadata": {
  "kernelspec": {
   "display_name": "Python 3 (ipykernel)",
   "language": "python",
   "name": "python3"
  },
  "language_info": {
   "codemirror_mode": {
    "name": "ipython",
    "version": 3
   },
   "file_extension": ".py",
   "mimetype": "text/x-python",
   "name": "python",
   "nbconvert_exporter": "python",
   "pygments_lexer": "ipython3",
   "version": "3.12.7"
  }
 },
 "nbformat": 4,
 "nbformat_minor": 5
}
