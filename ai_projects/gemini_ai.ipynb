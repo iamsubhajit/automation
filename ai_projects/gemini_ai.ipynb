{
 "cells": [
  {
   "cell_type": "code",
   "execution_count": 67,
   "id": "ba083068-8498-4cb1-87d4-3b7ddbca4a6c",
   "metadata": {},
   "outputs": [
    {
     "ename": "TypeError",
     "evalue": "GenerativeModel.start_chat() missing 1 required positional argument: 'self'",
     "output_type": "error",
     "traceback": [
      "\u001b[1;31m---------------------------------------------------------------------------\u001b[0m",
      "\u001b[1;31mTypeError\u001b[0m                                 Traceback (most recent call last)",
      "Cell \u001b[1;32mIn[67], line 9\u001b[0m\n\u001b[0;32m      7\u001b[0m genai\u001b[38;5;241m.\u001b[39mconfigure(api_key\u001b[38;5;241m=\u001b[39mgoogle_key)\n\u001b[0;32m      8\u001b[0m gemini_model \u001b[38;5;241m=\u001b[39m genai\u001b[38;5;241m.\u001b[39mGenerativeModel\n\u001b[1;32m----> 9\u001b[0m startchat \u001b[38;5;241m=\u001b[39m gemini_model\u001b[38;5;241m.\u001b[39mstart_chat()\n",
      "\u001b[1;31mTypeError\u001b[0m: GenerativeModel.start_chat() missing 1 required positional argument: 'self'"
     ]
    }
   ],
   "source": [
    "from dotenv import load_dotenv\n",
    "import os\n",
    "import google.generativeai as genai\n",
    "\n",
    "load_dotenv()\n",
    "google_key = os.getenv(\"GEMINI_API_KEY\")\n",
    "genai.configure(api_key=google_key)\n",
    "gemini_model = genai.GenerativeModel()\n",
    "startchat = gemini_model.start_chat()\n",
    "\n",
    "#response1 = chat.send_message(\"Remember that my name is Subhajit MAITY\")\n",
    "#print(response1)\n",
    "#response2 = chat.send_message(\"What is my name?\")\n",
    "#print(response2.text)\n"
   ]
  },
  {
   "cell_type": "code",
   "execution_count": 64,
   "id": "b66cd43d-ddb6-4b12-a25e-ff92621a200a",
   "metadata": {},
   "outputs": [],
   "source": [
    "def mychat(n)->str:\n",
    "    global startchat\n",
    "    response = startchat.send_message(n)\n",
    "    return response.text"
   ]
  },
  {
   "cell_type": "code",
   "execution_count": 65,
   "id": "efc0bb07-e6e0-45c6-b6fb-2f4ca88572ab",
   "metadata": {},
   "outputs": [
    {
     "ename": "AttributeError",
     "evalue": "'function' object has no attribute 'send_message'",
     "output_type": "error",
     "traceback": [
      "\u001b[1;31m---------------------------------------------------------------------------\u001b[0m",
      "\u001b[1;31mAttributeError\u001b[0m                            Traceback (most recent call last)",
      "Cell \u001b[1;32mIn[65], line 1\u001b[0m\n\u001b[1;32m----> 1\u001b[0m mychat(\u001b[38;5;124m\"\u001b[39m\u001b[38;5;124mwho are you?\u001b[39m\u001b[38;5;124m\"\u001b[39m)\n",
      "Cell \u001b[1;32mIn[64], line 3\u001b[0m, in \u001b[0;36mmychat\u001b[1;34m(n)\u001b[0m\n\u001b[0;32m      1\u001b[0m \u001b[38;5;28;01mdef\u001b[39;00m \u001b[38;5;21mmychat\u001b[39m(n)\u001b[38;5;241m-\u001b[39m\u001b[38;5;241m>\u001b[39m\u001b[38;5;28mstr\u001b[39m:\n\u001b[0;32m      2\u001b[0m     \u001b[38;5;28;01mglobal\u001b[39;00m startchat\n\u001b[1;32m----> 3\u001b[0m     response \u001b[38;5;241m=\u001b[39m startchat\u001b[38;5;241m.\u001b[39msend_message(n)\n\u001b[0;32m      4\u001b[0m     \u001b[38;5;28;01mreturn\u001b[39;00m response\u001b[38;5;241m.\u001b[39mtext\n",
      "\u001b[1;31mAttributeError\u001b[0m: 'function' object has no attribute 'send_message'"
     ]
    }
   ],
   "source": [
    "mychat(\"who are you?\")"
   ]
  },
  {
   "cell_type": "code",
   "execution_count": null,
   "id": "4b25f547-7230-4731-9a9f-b2f4851b0f70",
   "metadata": {},
   "outputs": [],
   "source": []
  },
  {
   "cell_type": "code",
   "execution_count": 60,
   "id": "f21d5709-27d2-46fe-9408-8016c576f894",
   "metadata": {},
   "outputs": [
    {
     "name": "stdout",
     "output_type": "stream",
     "text": [
      "* Running on local URL:  http://127.0.0.1:7865\n",
      "* To create a public link, set `share=True` in `launch()`.\n"
     ]
    },
    {
     "data": {
      "text/html": [
       "<div><iframe src=\"http://127.0.0.1:7865/\" width=\"100%\" height=\"500\" allow=\"autoplay; camera; microphone; clipboard-read; clipboard-write;\" frameborder=\"0\" allowfullscreen></iframe></div>"
      ],
      "text/plain": [
       "<IPython.core.display.HTML object>"
      ]
     },
     "metadata": {},
     "output_type": "display_data"
    },
    {
     "data": {
      "text/plain": []
     },
     "execution_count": 60,
     "metadata": {},
     "output_type": "execute_result"
    },
    {
     "name": "stderr",
     "output_type": "stream",
     "text": [
      "Traceback (most recent call last):\n",
      "  File \"C:\\Users\\smy5\\AppData\\Local\\anaconda3\\Lib\\site-packages\\gradio\\queueing.py\", line 625, in process_events\n",
      "    response = await route_utils.call_process_api(\n",
      "               ^^^^^^^^^^^^^^^^^^^^^^^^^^^^^^^^^^^\n",
      "  File \"C:\\Users\\smy5\\AppData\\Local\\anaconda3\\Lib\\site-packages\\gradio\\route_utils.py\", line 322, in call_process_api\n",
      "    output = await app.get_blocks().process_api(\n",
      "             ^^^^^^^^^^^^^^^^^^^^^^^^^^^^^^^^^^^\n",
      "  File \"C:\\Users\\smy5\\AppData\\Local\\anaconda3\\Lib\\site-packages\\gradio\\blocks.py\", line 2220, in process_api\n",
      "    result = await self.call_function(\n",
      "             ^^^^^^^^^^^^^^^^^^^^^^^^^\n",
      "  File \"C:\\Users\\smy5\\AppData\\Local\\anaconda3\\Lib\\site-packages\\gradio\\blocks.py\", line 1731, in call_function\n",
      "    prediction = await anyio.to_thread.run_sync(  # type: ignore\n",
      "                 ^^^^^^^^^^^^^^^^^^^^^^^^^^^^^^^^^^^^^^^^^^^^^^^\n",
      "  File \"C:\\Users\\smy5\\AppData\\Local\\anaconda3\\Lib\\site-packages\\anyio\\to_thread.py\", line 56, in run_sync\n",
      "    return await get_async_backend().run_sync_in_worker_thread(\n",
      "           ^^^^^^^^^^^^^^^^^^^^^^^^^^^^^^^^^^^^^^^^^^^^^^^^^^^^\n",
      "  File \"C:\\Users\\smy5\\AppData\\Local\\anaconda3\\Lib\\site-packages\\anyio\\_backends\\_asyncio.py\", line 2134, in run_sync_in_worker_thread\n",
      "    return await future\n",
      "           ^^^^^^^^^^^^\n",
      "  File \"C:\\Users\\smy5\\AppData\\Local\\anaconda3\\Lib\\site-packages\\anyio\\_backends\\_asyncio.py\", line 851, in run\n",
      "    result = context.run(func, *args)\n",
      "             ^^^^^^^^^^^^^^^^^^^^^^^^\n",
      "  File \"C:\\Users\\smy5\\AppData\\Local\\anaconda3\\Lib\\site-packages\\gradio\\utils.py\", line 904, in wrapper\n",
      "    response = f(*args, **kwargs)\n",
      "               ^^^^^^^^^^^^^^^^^^\n",
      "  File \"C:\\Users\\smy5\\AppData\\Local\\Temp\\ipykernel_24824\\2425040982.py\", line 5, in mychat\n",
      "    response = startchat.send_message(n)\n",
      "               ^^^^^^^^^^^^^^^^^^^^^^\n",
      "AttributeError: 'function' object has no attribute 'send_message'\n"
     ]
    }
   ],
   "source": [
    "import gradio as gr\n",
    "\n",
    "def mychat(n)->str:\n",
    "    global startchat\n",
    "    response = startchat.send_message(n)\n",
    "    return response.text\n",
    "gr.Interface(fn=mychat, inputs=\"textbox\", outputs=\"textbox\").launch()"
   ]
  },
  {
   "cell_type": "code",
   "execution_count": null,
   "id": "57219ff1-4fc1-4e5d-8a7a-0c6f0c192a10",
   "metadata": {},
   "outputs": [],
   "source": []
  }
 ],
 "metadata": {
  "kernelspec": {
   "display_name": "Python 3 (ipykernel)",
   "language": "python",
   "name": "python3"
  },
  "language_info": {
   "codemirror_mode": {
    "name": "ipython",
    "version": 3
   },
   "file_extension": ".py",
   "mimetype": "text/x-python",
   "name": "python",
   "nbconvert_exporter": "python",
   "pygments_lexer": "ipython3",
   "version": "3.12.7"
  }
 },
 "nbformat": 4,
 "nbformat_minor": 5
}
