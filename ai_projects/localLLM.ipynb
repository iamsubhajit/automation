{
 "cells": [
  {
   "cell_type": "code",
   "execution_count": null,
   "id": "01c21ca2-c5ff-4904-a743-fb4804220b56",
   "metadata": {},
   "outputs": [],
   "source": [
    "#with request\n",
    "\n",
    "import requests\n",
    "\n",
    "headers={'Content-Type':'application/json'}\n",
    "model='gema3:4b'\n",
    "myprompt='How is the weather today in Kolkata?'\n",
    "\n",
    "mymsg=[{\n",
    "    'role':'user',\n",
    "    'content':myprompt\n",
    "}]\n",
    "\n",
    "payload={\n",
    "    'model':model,\n",
    "    'messages':mymsg\n",
    "}\n",
    "\n",
    "ollama_api = 'http://localhost:11434/api/chat'\n",
    "\n",
    "response = requests.post(ollama_api, json=payload, headers=headers)\n",
    "print(response.status_code)\n"
   ]
  },
  {
   "cell_type": "code",
   "execution_count": null,
   "id": "6685966c-6467-4a49-9fd8-c73ffe3c1a7c",
   "metadata": {},
   "outputs": [],
   "source": [
    "#with python ollama module\n",
    "\n",
    "import ollama\n",
    "\n",
    "model = \"llama3.2:3b\"\n",
    "myprompt=\"How is the weather today in Kolkata?\"\n",
    "\n",
    "mymsg=[{\n",
    "    \"role\": \"user\",\n",
    "    \"content\": myprompt\n",
    "}]\n",
    "\n",
    "ollama.chat(model=model, messages=mymsg)"
   ]
  },
  {
   "cell_type": "code",
   "execution_count": null,
   "id": "88d783c4-ca81-4ffc-8396-dbf6f0c8487b",
   "metadata": {},
   "outputs": [],
   "source": [
    "#with openai but local LLM model\n",
    "\n",
    "from openai import OpenAI\n",
    "\n",
    "model = OpenAI(base_url=\"http:localhost:11434/v1\", api_key=\"abcd\")\n",
    "myprompt = \"How is the weather in Kolkata?\"\n",
    "\n",
    "mymsg = [{\n",
    "    \"role\": \"user\",\n",
    "    \"content\": myprompt\n",
    "}]\n",
    "\n",
    "response = model.chat.completions.create(model=\"llama3.2:3b\", messages=mymsg)\n",
    "print(response)"
   ]
  }
 ],
 "metadata": {
  "kernelspec": {
   "display_name": "Python 3 (ipykernel)",
   "language": "python",
   "name": "python3"
  },
  "language_info": {
   "codemirror_mode": {
    "name": "ipython",
    "version": 3
   },
   "file_extension": ".py",
   "mimetype": "text/x-python",
   "name": "python",
   "nbconvert_exporter": "python",
   "pygments_lexer": "ipython3",
   "version": "3.12.7"
  }
 },
 "nbformat": 4,
 "nbformat_minor": 5
}
