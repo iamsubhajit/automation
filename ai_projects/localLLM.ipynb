{
 "cells": [
  {
   "cell_type": "code",
   "execution_count": null,
   "id": "01c21ca2-c5ff-4904-a743-fb4804220b56",
   "metadata": {},
   "outputs": [],
   "source": [
    "#with request\n",
    "\n",
    "import requests\n",
    "\n",
    "headers={'Content-Type':'application/json'}\n",
    "model='gema3:4b'\n",
    "myprompt='How is the weather today in Kolkata?'\n",
    "\n",
    "mymsg=[{\n",
    "    'role':'user',\n",
    "    'content':myprompt\n",
    "}]\n",
    "\n",
    "payload={\n",
    "    'model':model,\n",
    "    'messages':mymsg\n",
    "}\n",
    "\n",
    "ollama_api = 'http://localhost:11434/api/chat'\n",
    "\n",
    "response = requests.post(ollama_api, json=payload, headers=headers)\n",
    "print(response.status_code)\n"
   ]
  }
 ],
 "metadata": {
  "kernelspec": {
   "display_name": "Python 3 (ipykernel)",
   "language": "python",
   "name": "python3"
  },
  "language_info": {
   "codemirror_mode": {
    "name": "ipython",
    "version": 3
   },
   "file_extension": ".py",
   "mimetype": "text/x-python",
   "name": "python",
   "nbconvert_exporter": "python",
   "pygments_lexer": "ipython3",
   "version": "3.12.7"
  }
 },
 "nbformat": 4,
 "nbformat_minor": 5
}
