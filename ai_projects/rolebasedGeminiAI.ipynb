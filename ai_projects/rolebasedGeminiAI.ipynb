{
 "cells": [
  {
   "cell_type": "code",
   "execution_count": 25,
   "id": "456c0a67-47c6-49ea-9913-526043b8f3a7",
   "metadata": {},
   "outputs": [],
   "source": [
    "import google.generativeai as genai\n",
    "from dotenv import load_dotenv\n",
    "import os\n",
    "\n",
    "\n",
    "load_dotenv()\n",
    "gemini_api_key = os.getenv('GEMINI_API_KEY')\n",
    "\n",
    "genai.configure(api_key=gemini_api_key)\n",
    "model = genai.GenerativeModel()\n",
    "prompt = {\n",
    "    \"role\": \"user\",\n",
    "    \"parts\": [\"You are an poet. So reply everything in Rhymes\"]\n",
    "}\n",
    "\n",
    "chat = model.start_chat(\n",
    "    history=[prompt]\n",
    ")\n",
    "\n",
    "#response = chat.send_message(\"Tell me about Lion\", stream=True)\n",
    "#for chunk in response:\n",
    "#    print(response)"
   ]
  },
  {
   "cell_type": "code",
   "execution_count": 26,
   "id": "3db07977-5e4d-4024-a6ba-66a68919e74e",
   "metadata": {},
   "outputs": [
    {
     "name": "stdout",
     "output_type": "stream",
     "text": [
      "* Running on local URL:  http://127.0.0.1:7869\n",
      "* To create a public link, set `share=True` in `launch()`.\n"
     ]
    },
    {
     "data": {
      "text/html": [
       "<div><iframe src=\"http://127.0.0.1:7869/\" width=\"100%\" height=\"500\" allow=\"autoplay; camera; microphone; clipboard-read; clipboard-write;\" frameborder=\"0\" allowfullscreen></iframe></div>"
      ],
      "text/plain": [
       "<IPython.core.display.HTML object>"
      ]
     },
     "metadata": {},
     "output_type": "display_data"
    },
    {
     "data": {
      "text/plain": []
     },
     "execution_count": 26,
     "metadata": {},
     "output_type": "execute_result"
    }
   ],
   "source": [
    "import gradio as gr\n",
    "\n",
    "def mychat(n):\n",
    "    response = chat.send_message(n, stream=False)\n",
    "    return response.text\n",
    "\n",
    "gr.Interface(fn=mychat, inputs=\"textbox\", outputs=\"textbox\").launch()"
   ]
  },
  {
   "cell_type": "code",
   "execution_count": null,
   "id": "8122e801-884d-4c16-b26f-888700ad2c58",
   "metadata": {},
   "outputs": [],
   "source": []
  }
 ],
 "metadata": {
  "kernelspec": {
   "display_name": "Python 3 (ipykernel)",
   "language": "python",
   "name": "python3"
  },
  "language_info": {
   "codemirror_mode": {
    "name": "ipython",
    "version": 3
   },
   "file_extension": ".py",
   "mimetype": "text/x-python",
   "name": "python",
   "nbconvert_exporter": "python",
   "pygments_lexer": "ipython3",
   "version": "3.12.7"
  }
 },
 "nbformat": 4,
 "nbformat_minor": 5
}
