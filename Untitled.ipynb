{
 "cells": [
  {
   "cell_type": "code",
   "execution_count": 13,
   "id": "b35a3b67-2465-42fc-8bdc-df4a01099530",
   "metadata": {},
   "outputs": [
    {
     "data": {
      "text/plain": [
       "'\\nInput: \"3[a]2[bc]\"\\nOutput: aaabcbc\\n\\nInput: 3[a2[c]]\\nOutput: accaccacc\\n'"
      ]
     },
     "execution_count": 13,
     "metadata": {},
     "output_type": "execute_result"
    }
   ],
   "source": [
    "'''\n",
    "Input: \"3[a]2[bc]\"\n",
    "Output: \"aaabcbc\"\n",
    "\n",
    "Input: \"3[a2[c]]\"\n",
    "Output: \"accaccacc\"\n",
    "'''"
   ]
  },
  {
   "cell_type": "code",
   "execution_count": 14,
   "id": "2ae9ac22-b02c-45bf-ae27-5f01414ac528",
   "metadata": {},
   "outputs": [],
   "source": [
    "x=\"3[a]2[bc]\""
   ]
  },
  {
   "cell_type": "code",
   "execution_count": 15,
   "id": "8b248dda-0b2e-4713-ac42-4e0a87c991af",
   "metadata": {},
   "outputs": [
    {
     "data": {
      "text/plain": [
       "'3[a]2[bc]'"
      ]
     },
     "execution_count": 15,
     "metadata": {},
     "output_type": "execute_result"
    }
   ],
   "source": [
    "x"
   ]
  },
  {
   "cell_type": "code",
   "execution_count": 25,
   "id": "5faa3556-38cc-49ce-a0ee-11e0d72f9866",
   "metadata": {},
   "outputs": [
    {
     "name": "stdout",
     "output_type": "stream",
     "text": [
      "aaabcbc\n",
      "accaccacc\n"
     ]
    }
   ],
   "source": [
    "def decode_string(s: str) -> str:\n",
    "    stack = []\n",
    "    current_num = 0\n",
    "    current_str = \"\"\n",
    "\n",
    "    for char in s:\n",
    "        if char.isdigit():\n",
    "            current_num = int(char)\n",
    "        elif char == '[':\n",
    "            # Push the current string and number to stack\n",
    "            stack.append((current_str, current_num))\n",
    "            current_str = \"\"\n",
    "            current_num = 0\n",
    "        elif char == ']':\n",
    "            # Pop and repeat the string\n",
    "            last_str, num = stack.pop()\n",
    "            current_str = last_str + current_str * num\n",
    "        else:\n",
    "            current_str += char\n",
    "\n",
    "    return current_str\n",
    "\n",
    "# Test cases\n",
    "print(decode_string(\"3[a]2[bc]\"))     # Output: aaabcbc\n",
    "print(decode_string(\"3[a2[c]]\"))      # Output: accaccacc\n"
   ]
  },
  {
   "cell_type": "code",
   "execution_count": 20,
   "id": "999eaa45-de0a-45ec-886a-3eaf1fd9439c",
   "metadata": {},
   "outputs": [],
   "source": [
    "stack=[]\n",
    "stack.append((\"\",3))\n",
    "stack.append((\"a\",2))"
   ]
  },
  {
   "cell_type": "code",
   "execution_count": 21,
   "id": "51640541-a774-47e5-84a5-6345bd6fd412",
   "metadata": {},
   "outputs": [
    {
     "data": {
      "text/plain": [
       "[('', 3), ('a', 2)]"
      ]
     },
     "execution_count": 21,
     "metadata": {},
     "output_type": "execute_result"
    }
   ],
   "source": [
    "stack"
   ]
  },
  {
   "cell_type": "code",
   "execution_count": 22,
   "id": "d91e7708-1ace-43ca-b46f-0ae8f7dbb7f6",
   "metadata": {},
   "outputs": [],
   "source": [
    "x,y=stack.pop()"
   ]
  },
  {
   "cell_type": "code",
   "execution_count": 23,
   "id": "37166e84-50c1-4333-bcc0-585f6fee0b89",
   "metadata": {},
   "outputs": [
    {
     "data": {
      "text/plain": [
       "('a', 2)"
      ]
     },
     "execution_count": 23,
     "metadata": {},
     "output_type": "execute_result"
    }
   ],
   "source": [
    "x,y"
   ]
  },
  {
   "cell_type": "code",
   "execution_count": 4,
   "id": "f33af629-f9e0-46d9-8d3c-46c77b43d9ec",
   "metadata": {},
   "outputs": [
    {
     "data": {
      "text/plain": [
       "'20250616131010'"
      ]
     },
     "execution_count": 4,
     "metadata": {},
     "output_type": "execute_result"
    }
   ],
   "source": [
    "from datetime import datetime\n",
    "datetime.now().strftime(\"%Y%m%d%H%M%S\")"
   ]
  },
  {
   "cell_type": "code",
   "execution_count": 5,
   "id": "33efd2b6-a345-467d-915b-912665eeba77",
   "metadata": {},
   "outputs": [],
   "source": [
    "import flask"
   ]
  },
  {
   "cell_type": "code",
   "execution_count": 6,
   "id": "04956f53-9001-4c03-a36b-4bd22c96c56c",
   "metadata": {},
   "outputs": [
    {
     "ename": "NameError",
     "evalue": "name 'boto3' is not defined",
     "output_type": "error",
     "traceback": [
      "\u001b[1;31m---------------------------------------------------------------------------\u001b[0m",
      "\u001b[1;31mNameError\u001b[0m                                 Traceback (most recent call last)",
      "Cell \u001b[1;32mIn[6], line 1\u001b[0m\n\u001b[1;32m----> 1\u001b[0m s3_client \u001b[38;5;241m=\u001b[39m boto3\u001b[38;5;241m.\u001b[39mclient(\u001b[38;5;124m'\u001b[39m\u001b[38;5;124ms3\u001b[39m\u001b[38;5;124m'\u001b[39m)\n",
      "\u001b[1;31mNameError\u001b[0m: name 'boto3' is not defined"
     ]
    }
   ],
   "source": [
    "s3_client = boto3.client('s3')"
   ]
  },
  {
   "cell_type": "code",
   "execution_count": 2,
   "id": "bbc5ff2f-2a11-4ff2-b50a-a06b2722957d",
   "metadata": {},
   "outputs": [],
   "source": [
    "import boto3\n"
   ]
  },
  {
   "cell_type": "code",
   "execution_count": 3,
   "id": "7953c357-9a42-4dc2-a561-e32d60653c69",
   "metadata": {},
   "outputs": [],
   "source": [
    "s3_client = boto3.client('s3')"
   ]
  },
  {
   "cell_type": "code",
   "execution_count": 4,
   "id": "c8095188-96f2-44ed-a848-fea24cc42256",
   "metadata": {},
   "outputs": [],
   "source": [
    "myec2client = boto3.client('ec2')"
   ]
  },
  {
   "cell_type": "code",
   "execution_count": null,
   "id": "c50231db-304b-45f7-9562-d658c72561ce",
   "metadata": {},
   "outputs": [],
   "source": []
  }
 ],
 "metadata": {
  "kernelspec": {
   "display_name": "Python 3 (ipykernel)",
   "language": "python",
   "name": "python3"
  },
  "language_info": {
   "codemirror_mode": {
    "name": "ipython",
    "version": 3
   },
   "file_extension": ".py",
   "mimetype": "text/x-python",
   "name": "python",
   "nbconvert_exporter": "python",
   "pygments_lexer": "ipython3",
   "version": "3.12.7"
  }
 },
 "nbformat": 4,
 "nbformat_minor": 5
}
