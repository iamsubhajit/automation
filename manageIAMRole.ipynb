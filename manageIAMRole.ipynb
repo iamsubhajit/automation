{
 "cells": [
  {
   "cell_type": "code",
   "execution_count": null,
   "id": "c217a6fe-37df-4869-894e-f2b9b7ea606d",
   "metadata": {},
   "outputs": [],
   "source": [
    "#Create a Role\n",
    "\n",
    "import boto3\n",
    "import json\n",
    "\n",
    "iam_client = boto3.client(\"iam\")\n",
    "\n",
    "rolename = \"LambdaBasicRole\"\n",
    "\n",
    "assume_role_policy={\n",
    "    \"Version\": \"2012-10-17\"\n",
    "    \"Statement\": [\n",
    "        {\n",
    "            \"Effect\": \"Allow\",\n",
    "            \"Principal\": {\n",
    "                \"Service\": \"lambda.amazonaws.com\"\n",
    "            },\n",
    "            \"Action\": \"sts:AssumeRole\"\n",
    "        }\n",
    "    ]\n",
    "}\n",
    "\n",
    "response = iam_client.create_role(\n",
    "    RoleName=rolename,\n",
    "    AssumeRolePolicyDocument=json.dumps(assume_role_policy),\n",
    "    Description='Role for Lambda with Basic Couldwatch Logging permissions.'\n",
    ")\n",
    "\n",
    "print(f\"Created Role ARN:{response['Role']['Arn']}\")\n",
    "\n",
    "iam_client.attach_role_policy(\n",
    "    RoleName=\"rolename\",\n",
    "    PolicyArn=\"arn:aws:iam:aws:policy/service-role/AWSLambdaBasicExecutionRole\"\n",
    ")\n",
    "\n",
    "print(f\"Attached AWSLambdaBasicExecutionRole policy to {rolename}\")\n",
    "\n"
   ]
  },
  {
   "cell_type": "code",
   "execution_count": null,
   "id": "451cfc10-83f9-4d06-944c-602596a32983",
   "metadata": {},
   "outputs": [],
   "source": [
    "#Delete a Role\n",
    "\n",
    "import boto3\n",
    "\n",
    "iam_client = boto3.client(\"iam\")\n",
    "\n",
    "rolename = \"LambdaBasicExecutionRole\"\n",
    "\n",
    "attached_policies = iam_client.list_attached_role_policies(RoleName=rolename)\n",
    "\n",
    "for policy in attached_policies['AttachedPolicies']:\n",
    "    iam_client.detach_role_policy(\n",
    "        RoleName=role_name,\n",
    "        PolicyARN=policy['PolicyARN']\n",
    "    )\n",
    "    print(f\"Detached Policy: {policy['PolicyName']}\")\n",
    "\n",
    "iam_client.delete_role(RoleName=rolename)\n",
    "\n",
    "print(f\"Deleted Role {rolename}\")\n"
   ]
  }
 ],
 "metadata": {
  "kernelspec": {
   "display_name": "Python 3 (ipykernel)",
   "language": "python",
   "name": "python3"
  },
  "language_info": {
   "codemirror_mode": {
    "name": "ipython",
    "version": 3
   },
   "file_extension": ".py",
   "mimetype": "text/x-python",
   "name": "python",
   "nbconvert_exporter": "python",
   "pygments_lexer": "ipython3",
   "version": "3.12.7"
  }
 },
 "nbformat": 4,
 "nbformat_minor": 5
}
