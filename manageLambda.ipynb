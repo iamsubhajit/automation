{
 "cells": [
  {
   "cell_type": "code",
   "execution_count": null,
   "id": "2b044b6b-c32d-4aa8-be69-32d9f6aad32b",
   "metadata": {},
   "outputs": [],
   "source": [
    "import boto3\n",
    "\n",
    "lambda_client = boto3.client(\"lambda\")\n",
    "\n",
    "role_arn = \"arn:aws:iam::role/LambdaBasicRole\"\n",
    "\n",
    "with open('function.zip', 'rb') as f:\n",
    "    zipped_code = f.read()\n",
    "\n",
    "response = lambda_client.create_function(\n",
    "    FucntionName='HellowWorldLambda',\n",
    "    Runtime='python3.13',\n",
    "    Role=role_arn,\n",
    "    Handler='lambda_function.lambda_handler',\n",
    "    Code=dict(ZipFile=zipped_code),\n",
    "    Timeout=10,\n",
    "    MemorySize=128,\n",
    "    Publish=True\n",
    ")\n",
    "\n",
    "print(f\"Lambda Function ARN {response['FunctionArn']}\")"
   ]
  }
 ],
 "metadata": {
  "kernelspec": {
   "display_name": "Python 3 (ipykernel)",
   "language": "python",
   "name": "python3"
  },
  "language_info": {
   "codemirror_mode": {
    "name": "ipython",
    "version": 3
   },
   "file_extension": ".py",
   "mimetype": "text/x-python",
   "name": "python",
   "nbconvert_exporter": "python",
   "pygments_lexer": "ipython3",
   "version": "3.12.7"
  }
 },
 "nbformat": 4,
 "nbformat_minor": 5
}
